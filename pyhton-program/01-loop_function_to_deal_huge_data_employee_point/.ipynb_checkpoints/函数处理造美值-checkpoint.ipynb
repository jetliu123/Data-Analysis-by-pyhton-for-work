{
 "cells": [
  {
   "cell_type": "code",
   "execution_count": 1,
   "id": "e624efc9",
   "metadata": {},
   "outputs": [],
   "source": [
    "import pandas as pd\n",
    "import os"
   ]
  },
  {
   "cell_type": "code",
   "execution_count": null,
   "id": "ec40ad18",
   "metadata": {},
   "outputs": [],
   "source": []
  },
  {
   "cell_type": "code",
   "execution_count": 2,
   "id": "f740b34f",
   "metadata": {},
   "outputs": [
    {
     "name": "stdout",
     "output_type": "stream",
     "text": [
      "完成\n"
     ]
    }
   ],
   "source": [
    "# 1213 已经完全能够处理\n",
    "# 用函数来处理消耗\n",
    "data = {\n",
    "    'fenbu':['0造美值','1-100造美值','101-200造美值',\n",
    "             '201-300造美值','301-400造美值','401-500造美值','501-600造美值','601-700造美值','701-800造美值',\n",
    "            '801-900造美值','901-1000造美值','1001-1500造美值','1501-2000造美值','2001-2500造美值','2501-3000造美值',\n",
    "            '3001-4000造美值','4001-5000造美值','5001-6000造美值','6001-7000造美值','7001-8000造美值','8001-9000造美值',\n",
    "            '9001-10000造美值','10001-15000造美值','15001-20000造美值','20001-30000造美值','30001-40000造美值',\n",
    "            '40001-50000造美值','50001-100000造美值','100000以上造美值']\n",
    "}\n",
    "df_fenbu = pd.DataFrame(data)\n",
    "path = os.listdir('./data')\n",
    "\n",
    "def comsume_zaomeizhi():\n",
    "    df_xiaohao = pd.read_excel('./data/1221-1231消耗造美值.xlsx')  # 修改时间\n",
    "    df_comsum_distribute = pd.pivot_table(df_xiaohao,index = 'fenbu',columns = 'day2',values = 'employee_no',aggfunc = 'count')\n",
    "    df_comsum_finish = pd.merge(df_fenbu,df_comsum_distribute,left_on='fenbu',right_on = 'fenbu',how = 'left')\n",
    "    return df_comsum_finish\n",
    "\n",
    "def obtain_zaomeizhi():\n",
    "    df_obtain = pd.read_excel('./data/1221-1231赚取造美值.xlsx')   # 修改时间\n",
    "    df_obtain_distribute = pd.pivot_table(df_obtain,index = 'fenbu',columns = 'day2',values = 'employee_no',aggfunc = 'count')\n",
    "    df_obtain_distribute_finish = pd.merge(df_fenbu,df_obtain_distribute,left_on = 'fenbu',right_on= 'fenbu',how = 'left')\n",
    "    return df_obtain_distribute_finish \n",
    "\n",
    "def current_zaomeizhi():\n",
    "    all_dates = pd.DataFrame()\n",
    "    for i in path:\n",
    "        if '剩余造美值' in i:\n",
    "            df_current = pd.read_excel('./data/{}'.format(i))\n",
    "            df_current['日期'] = '2022' + '-' + i[:2] + '-' + i[2:4]\n",
    "            df_current['fenbu'] = df_current['fenbu'].fillna('0造美值')\n",
    "            all_dates = pd.concat([df_current,all_dates])\n",
    "    df_current_distribute = pd.pivot_table(all_dates,index = 'fenbu',columns= '日期',values = '员工工号',aggfunc = 'count')\n",
    "    df_current_distribute_finish = pd.merge(df_fenbu,df_current_distribute,left_on= 'fenbu',right_on= 'fenbu',how = 'left')\n",
    "    return df_current_distribute_finish\n",
    "    \n",
    "def save_data():\n",
    "    writer = pd.ExcelWriter('./1221-1231消耗赚取现有造美值.xlsx',engine= 'xlsxwriter')\n",
    "    comsume_zaomeizhi().to_excel(writer,sheet_name = '消耗造美值',index = False)\n",
    "    obtain_zaomeizhi().to_excel(writer,sheet_name = '赚取造美值',index = False)\n",
    "    current_zaomeizhi().to_excel(writer,sheet_name = '现有造美值',index = False)\n",
    "    writer.save()\n",
    "comsume_zaomeizhi()\n",
    "obtain_zaomeizhi()\n",
    "current_zaomeizhi()\n",
    "save_data()\n",
    "print(\"完成\")"
   ]
  },
  {
   "cell_type": "code",
   "execution_count": null,
   "id": "f8bc2052",
   "metadata": {},
   "outputs": [],
   "source": []
  }
 ],
 "metadata": {
  "kernelspec": {
   "display_name": "Python 3 (ipykernel)",
   "language": "python",
   "name": "python3"
  },
  "language_info": {
   "codemirror_mode": {
    "name": "ipython",
    "version": 3
   },
   "file_extension": ".py",
   "mimetype": "text/x-python",
   "name": "python",
   "nbconvert_exporter": "python",
   "pygments_lexer": "ipython3",
   "version": "3.9.13"
  }
 },
 "nbformat": 4,
 "nbformat_minor": 5
}
